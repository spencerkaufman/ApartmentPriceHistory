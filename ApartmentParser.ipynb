{
 "cells": [
  {
   "cell_type": "code",
   "execution_count": 1,
   "metadata": {},
   "outputs": [],
   "source": [
    "from datetime import datetime, timedelta\n",
    "import selenium.webdriver as webdriver\n",
    "from selenium.webdriver import Chrome\n",
    "from selenium.webdriver.support.ui import Select\n",
    "from selenium.webdriver.chrome.options import Options\n",
    "from selenium.common.exceptions import NoSuchElementException\n",
    "from selenium.webdriver.common.action_chains import ActionChains\n",
    "import io\n",
    "import os.path\n",
    "import time\n",
    "from datetime import datetime"
   ]
  },
  {
   "cell_type": "code",
   "execution_count": 2,
   "metadata": {},
   "outputs": [
    {
     "name": "stdout",
     "output_type": "stream",
     "text": [
      "Requirement already up-to-date: selenium in c:\\users\\spencer\\anaconda3\\lib\\site-packages (3.141.0)\n",
      "Requirement already satisfied, skipping upgrade: urllib3 in c:\\users\\spencer\\anaconda3\\lib\\site-packages (from selenium) (1.24.2)\n",
      "Note: you may need to restart the kernel to use updated packages.\n"
     ]
    }
   ],
   "source": [
    "pip install -U selenium"
   ]
  },
  {
   "cell_type": "code",
   "execution_count": 3,
   "metadata": {},
   "outputs": [
    {
     "name": "stdout",
     "output_type": "stream",
     "text": [
      "What is the name of the item you'd like to know about?: (format Oxford-OH)Seattle-WA\n"
     ]
    }
   ],
   "source": [
    "searchQuery = input(\"What is the name of the item you'd like to know about?: (format Oxford-OH)\")"
   ]
  },
  {
   "cell_type": "code",
   "execution_count": 4,
   "metadata": {},
   "outputs": [],
   "source": [
    "#get the path url from href\n",
    "\n",
    "def findPageLink():\n",
    "    global totalPages\n",
    "    chromeOptions = webdriver.ChromeOptions()\n",
    "    #chromeOptions.add_argument(\"--headless\")\n",
    "    #chromeOptions.add_argument(\"--no-sandbox\")\n",
    "    browser = webdriver.Chrome(chrome_options=chromeOptions)\n",
    "    myString = \"https://www.apartments.com/\" + searchQuery + \"\"\n",
    "    browser.get(myString)\n",
    "    links = browser.find_elements_by_class_name(\"searchResults\");\n",
    "    pages = []\n",
    "    for link in links:\n",
    "        link = link.text\n",
    "        maxPage = link.split(\" \")\n",
    "        numPages = maxPage[len(maxPage)-1]       \n",
    "    print(\"total number of pages: \" + numPages)\n",
    "    totalPages = numPages\n",
    "    return myString + \"/\"\n",
    "    browser.quit()"
   ]
  },
  {
   "cell_type": "code",
   "execution_count": 5,
   "metadata": {},
   "outputs": [
    {
     "name": "stderr",
     "output_type": "stream",
     "text": [
      "C:\\Users\\Spencer\\Anaconda3\\lib\\site-packages\\ipykernel_launcher.py:8: DeprecationWarning: use options instead of chrome_options\n",
      "  \n"
     ]
    },
    {
     "name": "stdout",
     "output_type": "stream",
     "text": [
      "total number of pages: 28\n",
      "https://www.apartments.com/Seattle-WA/\n"
     ]
    }
   ],
   "source": [
    "link = findPageLink()\n",
    "print(link)"
   ]
  },
  {
   "cell_type": "code",
   "execution_count": 6,
   "metadata": {},
   "outputs": [
    {
     "name": "stdout",
     "output_type": "stream",
     "text": [
      "2020-05-10\n"
     ]
    }
   ],
   "source": [
    "print(str(datetime.today()).split()[0])"
   ]
  },
  {
   "cell_type": "code",
   "execution_count": 17,
   "metadata": {},
   "outputs": [],
   "source": [
    "import io\n",
    "import os.path\n",
    "\n",
    "f = \"\"\n",
    "if not os.path.exists('Data/Apartments/Meta/metadata.csv'): #if file doesn't exist, write the headers\n",
    "    f = io.open('Data/Apartments/Meta/metadata.csv', \"a\", encoding=\"utf-8\")\n",
    "    f.write(\"Name, City, State, Zip, Address, Price, Date,\\n\") \n",
    "else:\n",
    "    f = io.open('Data/Apartments/Meta/metadata.csv', \"a\", encoding=\"utf-8\")"
   ]
  },
  {
   "cell_type": "code",
   "execution_count": 15,
   "metadata": {},
   "outputs": [],
   "source": [
    "def readURL(storyURL):\n",
    "    storyURL = storyURL\n",
    "    chromeOptions = webdriver.ChromeOptions()\n",
    "    #chromeOptions.add_argument(\"--headless\")\n",
    "    #chromeOptions.add_argument(\"--no-sandbox\")\n",
    "    browser = webdriver.Chrome(chrome_options=chromeOptions)\n",
    "    browser.get(storyURL)\n",
    "    #This will be returned with the relevant metadata elements\n",
    "    metadata = {}\n",
    "    nameList = []\n",
    "    priceRange = []\n",
    "    dates = []\n",
    "    addressList = []\n",
    "    city = []\n",
    "    state = []\n",
    "    zips = []\n",
    "    \n",
    "    titles = browser.find_elements_by_class_name(\"placardTitle.js-placardTitle\");\n",
    "    for title in titles:\n",
    "        nameList.append(title.text.replace(\",\", \"\"))\n",
    "        dates.append(str(datetime.today()).split()[0]) #we'll append today's date as well\n",
    "        \n",
    "    addresses = browser.find_elements_by_class_name(\"location\");\n",
    "    for address in addresses:\n",
    "        info = address.text.split(\",\")\n",
    "        if(len(info) > 2):\n",
    "            moreInfo = info[2].split(\" \")   \n",
    "            addressList.append(info[0])\n",
    "            city.append(info[1])\n",
    "            state.append(moreInfo[1])\n",
    "            zips.append(moreInfo[2])\n",
    "        else:\n",
    "            city.append(info[0])\n",
    "            moreInfo = info[1].split(\" \")\n",
    "            state.append(moreInfo[1])\n",
    "            zips.append(moreInfo[2])\n",
    "            addressList.append(\"temp\")\n",
    "        \n",
    "    prices = browser.find_elements_by_class_name(\"altRentDisplay\");\n",
    "    for price in prices:\n",
    "        priceRange.append(price.text.replace(\",\", \"\"))\n",
    "        \n",
    "    #numBedrooms = browser.find_elements_by_class_name(\"apartmentRentRollupContainer\");\n",
    "    #for bedroom in numBedrooms:\n",
    "    #    if(\"$\" in bedroom):\n",
    "    #        fullbedroom.replace(\",\", \"\")\n",
    "    #    print(bedroom.text)\n",
    "    #    numRooms.append(bedroom.text)\n",
    "        \n",
    "    #print(len(nameList), len(addressList), len(priceRange), len(numRooms), len(dates))\n",
    "    \n",
    "\n",
    "    #create the object to store values in\n",
    "    if(\"name\" not in metadata):\n",
    "        metadata[\"names\"] = \"NaN\"\n",
    "    if(\"city\" not in metadata):\n",
    "        metadata[\"city\"] = \"NaN\"\n",
    "    if(\"state\" not in metadata):\n",
    "        metadata[\"state\"] = \"NaN\"\n",
    "    if(\"zip\" not in metadata):\n",
    "        metadata[\"zip\"] = \"NaN\"\n",
    "    if(\"address\" not in metadata):\n",
    "        metadata[\"address\"] = \"NaN\"\n",
    "    if(\"price\" not in metadata):\n",
    "        metadata[\"price\"] = \"NaN\"\n",
    "    if(\"date\" not in metadata):\n",
    "        metadata[\"date\"] = \"NaN\"\n",
    "\n",
    "\n",
    "    for i in range(0, len(nameList)):\n",
    "        metadata[\"names\"] = nameList[i]\n",
    "        if(addressList[i] != \"temp\"):\n",
    "            metadata[\"address\"] = addressList[i]\n",
    "        else:\n",
    "            metadata[\"address\"] = nameList[i]\n",
    "        metadata[\"price\"] = priceRange[i]\n",
    "        metadata[\"date\"] = dates[i]\n",
    "        metadata[\"city\"] = city[i]\n",
    "        metadata[\"state\"] = state[i]\n",
    "        metadata[\"zip\"] = zips[i]\n",
    "        \n",
    "        f.write(metadata[\"names\"] + \",\" + metadata[\"city\"] + \",\" + metadata[\"state\"] + \",\" + metadata[\"zip\"] + \",\"\n",
    "                + metadata[\"address\"] + \",\" + metadata[\"price\"]+ \",\" + metadata[\"date\"] + \",\\n\")\n",
    "        \n",
    "    "
   ]
  },
  {
   "cell_type": "code",
   "execution_count": 9,
   "metadata": {},
   "outputs": [
    {
     "name": "stdout",
     "output_type": "stream",
     "text": [
      "28\n"
     ]
    }
   ],
   "source": [
    "print(totalPages)"
   ]
  },
  {
   "cell_type": "code",
   "execution_count": 18,
   "metadata": {
    "scrolled": true
   },
   "outputs": [
    {
     "name": "stdout",
     "output_type": "stream",
     "text": [
      "1\n"
     ]
    },
    {
     "name": "stderr",
     "output_type": "stream",
     "text": [
      "C:\\Users\\Spencer\\Anaconda3\\lib\\site-packages\\ipykernel_launcher.py:6: DeprecationWarning: use options instead of chrome_options\n",
      "  \n"
     ]
    },
    {
     "name": "stdout",
     "output_type": "stream",
     "text": [
      "2\n",
      "3\n",
      "4\n",
      "5\n",
      "6\n",
      "7\n",
      "8\n",
      "9\n",
      "10\n",
      "11\n",
      "12\n",
      "13\n",
      "14\n",
      "15\n",
      "16\n",
      "17\n",
      "18\n",
      "19\n",
      "20\n",
      "21\n",
      "22\n",
      "23\n",
      "24\n",
      "25\n",
      "26\n",
      "27\n",
      "28\n"
     ]
    }
   ],
   "source": [
    "#Call this method on the total number of pages we can parse\n",
    "\n",
    "for i in range(1, int(totalPages)+1):\n",
    "    print(i)\n",
    "    readURL(link + str(i))\n",
    "f.close()"
   ]
  }
 ],
 "metadata": {
  "kernelspec": {
   "display_name": "Python 3",
   "language": "python",
   "name": "python3"
  },
  "language_info": {
   "codemirror_mode": {
    "name": "ipython",
    "version": 3
   },
   "file_extension": ".py",
   "mimetype": "text/x-python",
   "name": "python",
   "nbconvert_exporter": "python",
   "pygments_lexer": "ipython3",
   "version": "3.7.4"
  }
 },
 "nbformat": 4,
 "nbformat_minor": 2
}
